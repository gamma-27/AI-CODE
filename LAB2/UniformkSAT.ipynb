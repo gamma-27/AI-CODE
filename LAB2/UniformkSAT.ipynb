{
 "cells": [
  {
   "cell_type": "code",
   "execution_count": null,
   "metadata": {},
   "outputs": [],
   "source": [
    "import random\n",
    "def generateInstance(n, k, m):\n",
    "\n",
    "  vars = []\n",
    "  for i in range(n):\n",
    "    vars.append((chr(i + 65)))\n",
    "\n",
    "  problem = \"((\"\n",
    "  clause = []\n",
    "\n",
    "  for i in range(k * m):\n",
    "\n",
    "    x = random.choice(vars)\n",
    "    vars.remove(x)\n",
    "    clause.append(x)\n",
    "\n",
    "    if(i % k == k - 1):\n",
    "      while len(clause) != 0:\n",
    "        vars.append(clause.pop(0))\n",
    "\n",
    "    y = random.random()\n",
    "    if y < 0.5:\n",
    "      problem += \"~\"\n",
    "    \n",
    "    problem += x\n",
    "\n",
    "    if i % k == k - 1 and i != (k * m - 1):\n",
    "      problem += \") and (\"\n",
    "    elif i != (k * m - 1):\n",
    "      problem += \" or \"\n",
    "  \n",
    "  problem += \"))\"\n",
    "      \n",
    "  return problem\n",
    "for i in range(10):\n",
    "  print(\"Problem \", i+1, \": \", generateInstance(12, 3, 4))\n",
    "\n",
    "# Problem  1 :  ((~G or ~B or A) and (~I or C or E) and (F or ~B or D) and (G or ~E or I))\n",
    "# Problem  2 :  ((~D or J or ~G) and (E or ~L or D) and (~J or C or ~B) and (~K or C or ~F))\n",
    "# Problem  3 :  ((~E or B or ~F) and (K or H or ~G) and (G or A or ~J) and (~C or ~A or B))\n",
    "# Problem  4 :  ((~J or ~G or ~L) and (L or ~E or ~H) and (K or ~B or ~J) and (I or A or C))\n",
    "# Problem  5 :  ((G or ~A or ~H) and (~H or ~D or F) and (F or A or ~C) and (~L or ~A or H))\n",
    "# Problem  6 :  ((H or G or F) and (~G or C or J) and (~A or H or ~K) and (~F or ~J or I))\n",
    "# Problem  7 :  ((~D or ~K or ~B) and (~I or ~J or ~D) and (J or H or C) and (F or ~E or H))\n",
    "# Problem  8 :  ((~G or ~L or B) and (I or C or ~L) and (~G or ~J or C) and (~C or ~A or F))\n",
    "# Problem  9 :  ((~J or ~I or ~F) and (~C or G or I) and (J or ~F or ~L) and (~C or ~J or ~K))\n",
    "# Problem  10 :  ((~F or E or ~I) and (~I or ~E or D) and (~I or ~J or G) and (~F or B or ~E))"
   ]
  }
 ],
 "metadata": {
  "language_info": {
   "name": "python"
  }
 },
 "nbformat": 4,
 "nbformat_minor": 2
}
